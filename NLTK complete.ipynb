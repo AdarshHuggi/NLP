{
 "cells": [
  {
   "cell_type": "markdown",
   "metadata": {},
   "source": [
    "# python string\n",
    "# slicing "
   ]
  },
  {
   "cell_type": "code",
   "execution_count": 4,
   "metadata": {},
   "outputs": [
    {
     "name": "stdout",
     "output_type": "stream",
     "text": [
      "a \n",
      "--------------------------------------------------\n",
      "cien\n",
      "--------------------------------------------------\n",
      "t \n"
     ]
    }
   ],
   "source": [
    "a= \"Data science\"\n",
    "print(a[3:5])\n",
    "print(\"-\" * 50)\n",
    "\n",
    "print (a[-6:-2])\n",
    "print(\"-\" * 50)\n",
    "\n",
    "#get the results step wise\n",
    "\n",
    "print(a[2:6:2])"
   ]
  },
  {
   "cell_type": "code",
   "execution_count": null,
   "metadata": {},
   "outputs": [],
   "source": []
  },
  {
   "cell_type": "code",
   "execution_count": null,
   "metadata": {},
   "outputs": [],
   "source": []
  },
  {
   "cell_type": "code",
   "execution_count": null,
   "metadata": {},
   "outputs": [],
   "source": []
  },
  {
   "cell_type": "code",
   "execution_count": null,
   "metadata": {},
   "outputs": [],
   "source": []
  },
  {
   "cell_type": "code",
   "execution_count": null,
   "metadata": {},
   "outputs": [],
   "source": []
  },
  {
   "cell_type": "markdown",
   "metadata": {},
   "source": [
    "### string Methods\n",
    "python have set of built in string methods that we can use on strings \n"
   ]
  },
  {
   "cell_type": "code",
   "execution_count": 20,
   "metadata": {},
   "outputs": [
    {
     "name": "stdout",
     "output_type": "stream",
     "text": [
      "Data test\n",
      "DATA TEST\n",
      "data test\n",
      "['Data', 'test']\n",
      "['D', 't', ' test']\n",
      "Mata test\n"
     ]
    }
   ],
   "source": [
    "# strip() will remove all the white spaces in the string begining to end \n",
    "a=\"Data test\"\n",
    "print(a.strip())\n",
    "\n",
    "#lower()\n",
    "#upper()\n",
    "#split()\n",
    "#replace()\n",
    "print(a.upper())\n",
    "print(a.lower())\n",
    "print(a.split())\n",
    "print(a.split(\"a\"))\n",
    "print(a.replace(\"D\",\"M\"))\n",
    "\n",
    "\n"
   ]
  },
  {
   "cell_type": "code",
   "execution_count": 21,
   "metadata": {},
   "outputs": [
    {
     "name": "stdout",
     "output_type": "stream",
     "text": [
      "Training Data set\n"
     ]
    }
   ],
   "source": [
    "# string contactenation\n",
    "\n",
    "a =\"Data set\"\n",
    "b =\"Training\"\n",
    "print(b+ \" \"+a)"
   ]
  },
  {
   "cell_type": "markdown",
   "metadata": {},
   "source": [
    "# Import text\n",
    "In NLP your dataset woud be in .txt .csv type of format, you need to import it and try to clean the irrelevent data from dataset\n",
    "python file handling : create, open , read, append , write\n"
   ]
  },
  {
   "cell_type": "code",
   "execution_count": 49,
   "metadata": {},
   "outputs": [],
   "source": [
    "### create test file \n",
    "#here we are overiding the exiting file and open write and read mode\n",
    "#step1 \n",
    "file =open(\"dataNLP.txt\",\"w+\")\n"
   ]
  },
  {
   "cell_type": "code",
   "execution_count": 50,
   "metadata": {},
   "outputs": [],
   "source": [
    "#step 2\n",
    "for i in range(5):\n",
    "    file.write(\"line number is %d\\r\\n\" %(i+1))"
   ]
  },
  {
   "cell_type": "code",
   "execution_count": 51,
   "metadata": {},
   "outputs": [],
   "source": [
    "#step3 \n",
    "file.close()"
   ]
  },
  {
   "cell_type": "code",
   "execution_count": 52,
   "metadata": {},
   "outputs": [
    {
     "name": "stdout",
     "output_type": "stream",
     "text": [
      "line number is 1\n",
      "\n",
      "\n",
      "\n",
      "line number is 2\n",
      "\n",
      "\n",
      "\n",
      "line number is 3\n",
      "\n",
      "\n",
      "\n",
      "line number is 4\n",
      "\n",
      "\n",
      "\n",
      "line number is 5\n",
      "\n",
      "\n",
      "\n"
     ]
    }
   ],
   "source": [
    "#print the file test file line by line\n",
    "file =open(\"dataNLP.txt\",\"r\")\n",
    "for i in file:\n",
    "    print(i)\n"
   ]
  },
  {
   "cell_type": "code",
   "execution_count": 53,
   "metadata": {},
   "outputs": [],
   "source": [
    "file.close()"
   ]
  },
  {
   "cell_type": "markdown",
   "metadata": {},
   "source": [
    "### Append data to file \n",
    "you can add the text to existing file or new file "
   ]
  },
  {
   "cell_type": "code",
   "execution_count": 57,
   "metadata": {},
   "outputs": [],
   "source": [
    "#step1\n",
    "# \"+\" sign is in the code which means if .txt file are not available then \"+\" will create new file but this is not nacessary to create new file \n",
    "file =open(\"dataNLP.txt\", \"a+\")"
   ]
  },
  {
   "cell_type": "code",
   "execution_count": 59,
   "metadata": {},
   "outputs": [],
   "source": [
    "#step2 \n",
    "for i in range(3):\n",
    "    file.write(\"appending line number %d\\r\\n\" %(i+1))"
   ]
  },
  {
   "cell_type": "code",
   "execution_count": 60,
   "metadata": {},
   "outputs": [],
   "source": [
    "#step3 \n",
    "file.close()"
   ]
  },
  {
   "cell_type": "code",
   "execution_count": 67,
   "metadata": {},
   "outputs": [],
   "source": [
    "#read the files\n",
    "#not only you create .txt files in python but also call .txt file read mode()\n",
    "\n",
    "file =open(\"dataNLP.txt\",\"r\")"
   ]
  },
  {
   "cell_type": "code",
   "execution_count": 68,
   "metadata": {},
   "outputs": [],
   "source": [
    "#step2 here we'll check is our files is open or not , if yes we processed\n",
    "\n",
    "if file.mode == 'r':\n",
    "    content =file.read() # we used to read the file,read()  for reading the file data and store in vriables"
   ]
  },
  {
   "cell_type": "code",
   "execution_count": 69,
   "metadata": {},
   "outputs": [
    {
     "name": "stdout",
     "output_type": "stream",
     "text": [
      "line number is 1\n",
      "\n",
      "line number is 2\n",
      "\n",
      "line number is 3\n",
      "\n",
      "line number is 4\n",
      "\n",
      "line number is 5\n",
      "\n",
      "appending line number 1\n",
      "\n",
      "appending line number 2\n",
      "\n",
      "appending line number 3\n",
      "\n",
      "\n",
      "Here is the output\n"
     ]
    }
   ],
   "source": [
    "#step3 printing the file\n",
    "print(content)\n",
    "print(\"Here is the output\")"
   ]
  },
  {
   "cell_type": "markdown",
   "metadata": {},
   "source": [
    "##### Mode Description\n",
    "\n",
    "    \"r\"  This is the default model. it Opens file for reading \n",
    "\n",
    "\n",
    "    \"w\"  This mode opens file for writing  if file does not exist it creates a new file if file exists it truncate the file\n",
    "\n",
    "\n",
    "    \"x\" Creates a new file. if file already exits the operation fails\n",
    "\n",
    "    \n",
    "    \"a\" Oprn file in append mode if file does not exist it creates a new file\n",
    "\n",
    "    \"t\" This is the default mode. it opens in text mode\n",
    "    \n",
    "    \"b\" this opens in binary mode.\n",
    "    \n",
    "    \"+\" this will open file for reading and writing (updating)\n",
    "    "
   ]
  },
  {
   "cell_type": "markdown",
   "metadata": {},
   "source": [
    "### Text Preprocessing \n"
   ]
  },
  {
   "cell_type": "code",
   "execution_count": 70,
   "metadata": {},
   "outputs": [],
   "source": [
    "#import Necessary libraries\n",
    "import nltk\n",
    "import string\n",
    "import re"
   ]
  },
  {
   "cell_type": "markdown",
   "metadata": {},
   "source": [
    "##### Text lowercase\n",
    "we do lower case the text to reduce the size of the vocabulary of our text data"
   ]
  },
  {
   "cell_type": "code",
   "execution_count": 71,
   "metadata": {},
   "outputs": [
    {
     "data": {
      "text/plain": [
       "'weather is too cloudly .possiblity of rain is high today!!'"
      ]
     },
     "execution_count": 71,
     "metadata": {},
     "output_type": "execute_result"
    }
   ],
   "source": [
    "def lowercase_text(text):\n",
    "    return text.lower()\n",
    "\n",
    "input_str = \"Weather is too cloudly .Possiblity of rain is high Today!!\"\n",
    "lowercase_text(input_str)"
   ]
  },
  {
   "cell_type": "markdown",
   "metadata": {},
   "source": [
    "#### Remove number\n",
    "we should remove numbers or either convert those numbers into textual representation . we use the regular expression (re) to remove the numbers"
   ]
  },
  {
   "cell_type": "code",
   "execution_count": 73,
   "metadata": {},
   "outputs": [
    {
     "data": {
      "text/plain": [
       "'You bought  candies from shop , and  candies ar in the home '"
      ]
     },
     "execution_count": 73,
     "metadata": {},
     "output_type": "execute_result"
    }
   ],
   "source": [
    "# for removing numbers\n",
    "def remove_num(text):\n",
    "    result =re.sub(r'\\d+', '', text)\n",
    "    return result\n",
    "\n",
    "input_s = \"You bought 6 candies from shop , and 4 candies ar in the home \"\n",
    "remove_num(input_s)"
   ]
  },
  {
   "cell_type": "code",
   "execution_count": 74,
   "metadata": {},
   "outputs": [
    {
     "name": "stdout",
     "output_type": "stream",
     "text": [
      "Collecting inflect\n",
      "  Downloading https://files.pythonhosted.org/packages/4f/a8/031641ad73a1bd1a9932261a6193864556172b333dde263fed8b5a0940cf/inflect-5.3.0-py3-none-any.whl\n",
      "Installing collected packages: inflect\n",
      "Successfully installed inflect-5.3.0\n"
     ]
    }
   ],
   "source": [
    "!pip install inflect"
   ]
  },
  {
   "cell_type": "raw",
   "metadata": {},
   "source": [
    "#For More details about Regular Expression Goto W3 school"
   ]
  },
  {
   "cell_type": "code",
   "execution_count": 86,
   "metadata": {},
   "outputs": [
    {
     "data": {
      "text/plain": [
       "'you bought six candies from shop. and four candies are in home.'"
      ]
     },
     "execution_count": 86,
     "metadata": {},
     "output_type": "execute_result"
    }
   ],
   "source": [
    "#import the library\n",
    "import inflect\n",
    "q = inflect.engine()\n",
    "\n",
    "#conver number into text \n",
    "\n",
    "def convert_num(text):\n",
    "    #split the string into list of texts\n",
    "    temp_string =text.split()\n",
    "    #initializing empty list \n",
    "    new_str =[]\n",
    "    \n",
    "    for word in temp_string:\n",
    "        #if  text is digit, convert the digit\n",
    "        # to number and appending into the new str list \n",
    "        \n",
    "        if word.isdigit():\n",
    "            temp =q.number_to_words(word)\n",
    "            new_str.append(temp)\n",
    "            \n",
    "        #append the text as it is\n",
    "        else:\n",
    "            new_str.append(word)\n",
    "            \n",
    "    #join the text of new_str to form a string \n",
    "    temp_str =' '.join(new_str)\n",
    "    return temp_str\n",
    "\n",
    "input_str =\"you bought 6 candies from shop. and 4 candies are in home.\"\n",
    "convert_num(input_str)\n",
    "    "
   ]
  },
  {
   "cell_type": "markdown",
   "metadata": {},
   "source": [
    "### Remove punctuations"
   ]
  },
  {
   "cell_type": "markdown",
   "metadata": {},
   "source": [
    "We remove punctuations because of that we don't have different from of the same word if we don't remove puncuvations , then been,been ,been will treated separately"
   ]
  },
  {
   "cell_type": "code",
   "execution_count": 89,
   "metadata": {},
   "outputs": [
    {
     "data": {
      "text/plain": [
       "'Hey Are you excited After a week  we will be in shimla'"
      ]
     },
     "execution_count": 89,
     "metadata": {},
     "output_type": "execute_result"
    }
   ],
   "source": [
    "#let's Remoove punctuation\n",
    "\n",
    "def rem_punct(text):\n",
    "    translator =str.maketrans('','', string.punctuation)\n",
    "    return text.translate(translator)\n",
    "\n",
    "input_str =\"Hey, Are you excited??, After a week , we will be in shimla\"\n",
    "rem_punct(input_str)"
   ]
  },
  {
   "cell_type": "code",
   "execution_count": 90,
   "metadata": {},
   "outputs": [
    {
     "data": {
      "text/plain": [
       "'!\"#$%&\\'()*+,-./:;<=>?@[\\\\]^_`{|}~'"
      ]
     },
     "execution_count": 90,
     "metadata": {},
     "output_type": "execute_result"
    }
   ],
   "source": [
    "string.punctuation"
   ]
  },
  {
   "cell_type": "markdown",
   "metadata": {},
   "source": [
    "### Remove default stopwords\n",
    "stopwords are word that do not contribute to the meaning the sentance , Hence , they can be safely removed with our causing any changes in the meaninly\n",
    "of a sentance. the NLTK (natural language toolkit) library has the stop words  and we can use these to remove the stop words  from our text and return a list of words tokens "
   ]
  },
  {
   "cell_type": "code",
   "execution_count": 92,
   "metadata": {
    "scrolled": true
   },
   "outputs": [
    {
     "name": "stderr",
     "output_type": "stream",
     "text": [
      "[nltk_data] Downloading package stopwords to\n",
      "[nltk_data]     C:\\Users\\Adarsh_huggi\\AppData\\Roaming\\nltk_data...\n",
      "[nltk_data]   Unzipping corpora\\stopwords.zip.\n",
      "[nltk_data] Downloading package punkt to\n",
      "[nltk_data]     C:\\Users\\Adarsh_huggi\\AppData\\Roaming\\nltk_data...\n",
      "[nltk_data]   Unzipping tokenizers\\punkt.zip.\n"
     ]
    },
    {
     "data": {
      "text/plain": [
       "True"
      ]
     },
     "execution_count": 92,
     "metadata": {},
     "output_type": "execute_result"
    }
   ],
   "source": [
    "#import nltk library\n",
    "from nltk.corpus import stopwords\n",
    "from nltk.tokenize import word_tokenize\n",
    "\n",
    "nltk.download(\"stopwords\")\n",
    "nltk.download('punkt')\n"
   ]
  },
  {
   "cell_type": "code",
   "execution_count": 97,
   "metadata": {},
   "outputs": [
    {
     "data": {
      "text/plain": [
       "['Data', 'new', 'oil', 'AI', 'last', 'invention']"
      ]
     },
     "execution_count": 97,
     "metadata": {},
     "output_type": "execute_result"
    }
   ],
   "source": [
    "# remove stopword functions\n",
    "\n",
    "def rem_stopwords(text):\n",
    "    stop_words = set(stopwords.words('english'))\n",
    "    word_tokens =word_tokenize(text)\n",
    "    filtered_text = [word for word in word_tokens if word not in string.punctuation]\n",
    "    filtered_text = [word for word in filtered_text if word not in stop_words]\n",
    "    return filtered_text\n",
    "\n",
    "ex_text =\" Data is the new oil AI is the last invention \"\n",
    "rem_stopwords(ex_text)"
   ]
  },
  {
   "cell_type": "code",
   "execution_count": 102,
   "metadata": {},
   "outputs": [
    {
     "name": "stdout",
     "output_type": "stream",
     "text": [
      "['i', 'me', 'my', 'myself', 'we', 'our', 'ours', 'ourselves', 'you', \"you're\", \"you've\", \"you'll\", \"you'd\", 'your', 'yours', 'yourself', 'yourselves', 'he', 'him', 'his', 'himself', 'she', \"she's\", 'her', 'hers', 'herself', 'it', \"it's\", 'its', 'itself', 'they', 'them', 'their', 'theirs', 'themselves', 'what', 'which', 'who', 'whom', 'this', 'that', \"that'll\", 'these', 'those', 'am', 'is', 'are', 'was', 'were', 'be', 'been', 'being', 'have', 'has', 'had', 'having', 'do', 'does', 'did', 'doing', 'a', 'an', 'the', 'and', 'but', 'if', 'or', 'because', 'as', 'until', 'while', 'of', 'at', 'by', 'for', 'with', 'about', 'against', 'between', 'into', 'through', 'during', 'before', 'after', 'above', 'below', 'to', 'from', 'up', 'down', 'in', 'out', 'on', 'off', 'over', 'under', 'again', 'further', 'then', 'once', 'here', 'there', 'when', 'where', 'why', 'how', 'all', 'any', 'both', 'each', 'few', 'more', 'most', 'other', 'some', 'such', 'no', 'nor', 'not', 'only', 'own', 'same', 'so', 'than', 'too', 'very', 's', 't', 'can', 'will', 'just', 'don', \"don't\", 'should', \"should've\", 'now', 'd', 'll', 'm', 'o', 're', 've', 'y', 'ain', 'aren', \"aren't\", 'couldn', \"couldn't\", 'didn', \"didn't\", 'doesn', \"doesn't\", 'hadn', \"hadn't\", 'hasn', \"hasn't\", 'haven', \"haven't\", 'isn', \"isn't\", 'ma', 'mightn', \"mightn't\", 'mustn', \"mustn't\", 'needn', \"needn't\", 'shan', \"shan't\", 'shouldn', \"shouldn't\", 'wasn', \"wasn't\", 'weren', \"weren't\", 'won', \"won't\", 'wouldn', \"wouldn't\"]\n"
     ]
    }
   ],
   "source": [
    "print(stopwords.words('english'))"
   ]
  },
  {
   "cell_type": "markdown",
   "metadata": {},
   "source": [
    "#### stemming "
   ]
  },
  {
   "cell_type": "code",
   "execution_count": 104,
   "metadata": {},
   "outputs": [
    {
     "data": {
      "text/plain": [
       "['data',\n",
       " 'is',\n",
       " 'the',\n",
       " 'new',\n",
       " 'revolut',\n",
       " 'in',\n",
       " 'the',\n",
       " 'world',\n",
       " '.',\n",
       " 'in',\n",
       " 'day',\n",
       " 'one',\n",
       " 'individu',\n",
       " 'would',\n",
       " 'gener',\n",
       " 'terabyt',\n",
       " 'of',\n",
       " 'data']"
      ]
     },
     "execution_count": 104,
     "metadata": {},
     "output_type": "execute_result"
    }
   ],
   "source": [
    "#importing nltk's porter stemmer\n",
    "from nltk.stem.porter import PorterStemmer\n",
    "from nltk.tokenize import word_tokenize\n",
    "stem1 =PorterStemmer()\n",
    "\n",
    "#stem word in the list tokenised words\n",
    "\n",
    "def s_word(text):\n",
    "    word_tokens =word_tokenize(text)\n",
    "    stems =[stem1.stem(word) for word in word_tokens]\n",
    "    return stems\n",
    "\n",
    "text =\" Data is the new revolution in the world . in day one individual would generate terabytes of data\"\n",
    "s_word(text)"
   ]
  },
  {
   "cell_type": "markdown",
   "metadata": {},
   "source": [
    "### Lemittization:\n"
   ]
  },
  {
   "cell_type": "code",
   "execution_count": 106,
   "metadata": {},
   "outputs": [
    {
     "name": "stderr",
     "output_type": "stream",
     "text": [
      "[nltk_data] Downloading package wordnet to\n",
      "[nltk_data]     C:\\Users\\Adarsh_huggi\\AppData\\Roaming\\nltk_data...\n",
      "[nltk_data]   Package wordnet is already up-to-date!\n"
     ]
    },
    {
     "data": {
      "text/plain": [
       "['Data',\n",
       " 'be',\n",
       " 'the',\n",
       " 'new',\n",
       " 'revolution',\n",
       " 'in',\n",
       " 'the',\n",
       " 'World',\n",
       " ',',\n",
       " 'in',\n",
       " 'dar',\n",
       " 'one',\n",
       " 'individual',\n",
       " 'can',\n",
       " 'generate',\n",
       " 'terrabyte',\n",
       " 'data']"
      ]
     },
     "execution_count": 106,
     "metadata": {},
     "output_type": "execute_result"
    }
   ],
   "source": [
    "from nltk.stem import wordnet\n",
    "from nltk.tokenize import word_tokenize\n",
    "lemma =wordnet.WordNetLemmatizer()\n",
    "nltk.download(\"wordnet\")\n",
    "\n",
    "#lemmtize string\n",
    "def lemmatize_word(text):\n",
    "    word_tokens =word_tokenize(text)\n",
    "    #provide context ie part of speech(pos)\n",
    "    lemmas = [lemma.lemmatize(word, pos ='v') for word in word_tokens]\n",
    "    return lemmas\n",
    "text =\"Data is the new revolution in the World, in dar one individual can generate terrabyte data\"\n",
    "lemmatize_word(text)"
   ]
  },
  {
   "cell_type": "markdown",
   "metadata": {},
   "source": [
    "#### Parts of speech(POS) Tagging"
   ]
  },
  {
   "cell_type": "code",
   "execution_count": 108,
   "metadata": {},
   "outputs": [
    {
     "name": "stderr",
     "output_type": "stream",
     "text": [
      "[nltk_data] Downloading package averaged_perceptron_tagger to\n",
      "[nltk_data]     C:\\Users\\Adarsh_huggi\\AppData\\Roaming\\nltk_data...\n",
      "[nltk_data]   Unzipping taggers\\averaged_perceptron_tagger.zip.\n"
     ]
    },
    {
     "data": {
      "text/plain": [
       "[('Are', 'NNP'),\n",
       " ('you', 'PRP'),\n",
       " ('afraid', 'IN'),\n",
       " ('of', 'IN'),\n",
       " ('something', 'NN'),\n",
       " ('?', '.')]"
      ]
     },
     "execution_count": 108,
     "metadata": {},
     "output_type": "execute_result"
    }
   ],
   "source": [
    "#import tokenize library\n",
    "\n",
    "from nltk.tokenize import word_tokenize\n",
    "from nltk import pos_tag\n",
    "nltk.download(\"averaged_perceptron_tagger\")\n",
    "\n",
    "#conver text into word_tokens with thier tags\n",
    "def pos_tagg(text):\n",
    "    word_tokens = word_tokenize(text)\n",
    "    return pos_tag(word_tokens)\n",
    "pos_tagg('Are you afraid of something?')"
   ]
  },
  {
   "cell_type": "markdown",
   "metadata": {},
   "source": [
    "Above NNP stands for Proper noun , PRP stands for Personal noun, IN as preposition, we can get all the details\n",
    "pos_taggs using the penn Treebank tagset"
   ]
  },
  {
   "cell_type": "markdown",
   "metadata": {},
   "source": [
    "### Chunking \n",
    "Chuncking  is the process of extracting the phrases from the unstructureed text and give them more structures to it , we also called then shallow parsing .we can do it on top of pos tagging , it groups words ito chunks mainly for noun phrase , chunking  we do by using regualar expression"
   ]
  },
  {
   "cell_type": "code",
   "execution_count": 112,
   "metadata": {},
   "outputs": [
    {
     "name": "stdout",
     "output_type": "stream",
     "text": [
      "Requirement already satisfied: pip in c:\\users\\adarsh_huggi\\anaconda3\\lib\\site-packages (21.3.1)\n",
      "Requirement already satisfied: nltk==3.6.4 in c:\\users\\adarsh_huggi\\anaconda3\\lib\\site-packages (3.6.4)\n",
      "Requirement already satisfied: regex in c:\\users\\adarsh_huggi\\anaconda3\\lib\\site-packages (from nltk==3.6.4) (2021.11.10)\n",
      "Requirement already satisfied: joblib in c:\\users\\adarsh_huggi\\anaconda3\\lib\\site-packages (from nltk==3.6.4) (1.1.0)\n",
      "Requirement already satisfied: click in c:\\users\\adarsh_huggi\\anaconda3\\lib\\site-packages (from nltk==3.6.4) (7.0)\n",
      "Requirement already satisfied: tqdm in c:\\users\\adarsh_huggi\\anaconda3\\lib\\site-packages (from nltk==3.6.4) (4.31.1)\n",
      "Note: you may need to restart the kernel to use updated packages.\n"
     ]
    }
   ],
   "source": [
    " pip install --upgrade pip && pip install nltk==3.6.4"
   ]
  },
  {
   "cell_type": "code",
   "execution_count": 116,
   "metadata": {},
   "outputs": [
    {
     "name": "stdout",
     "output_type": "stream",
     "text": [
      "Requirement already satisfied: regex in c:\\users\\adarsh_huggi\\anaconda3\\lib\\site-packages (2021.11.10)\n"
     ]
    }
   ],
   "source": [
    "!pip install -U regex"
   ]
  },
  {
   "cell_type": "code",
   "execution_count": 120,
   "metadata": {},
   "outputs": [
    {
     "name": "stdout",
     "output_type": "stream",
     "text": [
      "(S\n",
      "  The/DT\n",
      "  little/JJ\n",
      "  red/JJ\n",
      "  parrot/NN\n",
      "  is/VBZ\n",
      "  fying/VBG\n",
      "  inthe/JJ\n",
      "  sky/NN)\n"
     ]
    }
   ],
   "source": [
    "from nltk.tokenize import word_tokenize\n",
    "from nltk import pos_tag\n",
    "\n",
    "#here we define chunking function with text and regualar\n",
    "#Expression representing grammer as parameter\n",
    "\n",
    "def chuncking(text, grammar):\n",
    "    word_tokens = word_tokenize(text)\n",
    "    \n",
    "    #label_words with pos\n",
    "    word_pos =pos_tag(word_tokens)\n",
    "    \n",
    "    #create chunk parser using grammer\n",
    "    chunckParser = nltk.RegexpParser(grammar)\n",
    "    \n",
    "    #test it on the list word tokens with tagged pos\n",
    "    \n",
    "    tree =chunckParser.parse(word_pos)\n",
    "    \n",
    "    for subtree in tree.subtrees():\n",
    "        print(subtree)\n",
    "    #tree.draw()\n",
    "    \n",
    "sentance = \"The little red parrot is fying inthe sky\"\n",
    "grammar =\"NP :{<DT>?<JJ>!<NN>}\"\n",
    "chuncking(sentance, grammar)"
   ]
  },
  {
   "cell_type": "markdown",
   "metadata": {},
   "source": [
    "### Named Enitity Recognization\n",
    "it is used to extract information from unstructured text , it is used to classy the entities which is preset in the into categories like a person, orgenization, event places etc this will give you a detail knowledge about the text and relationship between the different entities "
   ]
  },
  {
   "cell_type": "code",
   "execution_count": null,
   "metadata": {},
   "outputs": [],
   "source": [
    "#import tokenization and chuck \n",
    "from nltk.tokenize import word_tokenize\n",
    "from nltk import pos_tag, ne_chunk\n",
    "\n",
    "nltk.download(\"maxnet_ne_chunker\")\n",
    "nltk.download(\"words\")\n",
    "\n",
    "def ner(text):\n",
    "    #tokenize the text\n",
    "    word_tokenize =word_tokenize(text)\n",
    "    \n",
    "    #pos tagging of words\n",
    "    word_pos =pos_tag(word_tokens)\n",
    "    \n",
    "    #tree of word entities\n",
    "    print(ne_chunk(word_pos))\n",
    "    \n",
    "text =\"Brain lara scored the highest 400 runs in a test match which played in between WI ans England\"\n",
    "ner(text)"
   ]
  },
  {
   "cell_type": "markdown",
   "metadata": {},
   "source": [
    "### RegEx:\n",
    "Regular expression,it is a type of object will help you to extract information from any string data by searching through text and find out what you need. whether its pounctuation , numbers letters or even white spaces, RegEX will allow you to check nd match any of the character combination in strings\n",
    "\n",
    "--> \\d any numbers(digits)\n",
    "--> \\D anything but not numbers(a non-digit)\n",
    "--> \\s = space(tab , space, newline)\n",
    "--> \\S = anything but not a space\n",
    "--> \\w =letters (match alphanumeric characters, including \"-\")\n",
    "--> \\W = any thing but  letters(Matches a non alphanumeric charcter excluding  \"_\"\n",
    "--> . = any but not letters( periods)\n",
    "--> \\b = any charcters except for new line \n",
    "--> + = matches one or more\n",
    "--> ? = matches one or more\n",
    "--> * = 0 or more\n",
    "-->  $ matches end of string \n",
    "--> ^  matches start of the string \n",
    "--> | matches eiter x/y\n",
    "--> [] = range of \"variance\"\n",
    "--> [x] =amount of preceding code\n",
    "--> \\r = carring return\n",
    "--> \\f = from feed\n",
    "--> \\t = tb\n",
    "--> \\e = escape\n"
   ]
  },
  {
   "cell_type": "markdown",
   "metadata": {},
   "source": [
    "##### RegEx syntax"
   ]
  },
  {
   "cell_type": "code",
   "execution_count": 10,
   "metadata": {},
   "outputs": [
    {
     "name": "stdout",
     "output_type": "stream",
     "text": [
      "['dataset']\n"
     ]
    }
   ],
   "source": [
    "import re\n",
    "sent = \"dataset, Data is a new fuel\"\n",
    "r2 = re.findall(r\"^\\w+\", sent) # w means word \n",
    "print(r2)                      # + means one more "
   ]
  },
  {
   "cell_type": "code",
   "execution_count": 11,
   "metadata": {},
   "outputs": [
    {
     "name": "stdout",
     "output_type": "stream",
     "text": [
      "['We', 'splitted', 'this', 'sentence']\n"
     ]
    }
   ],
   "source": [
    "import re\n",
    "print((re.split(r'\\s','We splitted this sentence'))) # \\s means slipting sentence"
   ]
  },
  {
   "cell_type": "code",
   "execution_count": 13,
   "metadata": {},
   "outputs": [
    {
     "name": "stdout",
     "output_type": "stream",
     "text": [
      "['we ', 'pliter thi', ' ', 'entence ']\n"
     ]
    }
   ],
   "source": [
    "import re\n",
    "print((re.split(r's', 'we spliter this sentence ')))\n",
    "#here we removing the \"s\" from  sentence "
   ]
  },
  {
   "cell_type": "markdown",
   "metadata": {},
   "source": [
    "### Use RegEX methods\n",
    "#The \"re\" #packagees provide several methods to actually perform queries on an inpurt string we will see different method  which are\n",
    "re.match()\n",
    "re.search()\n",
    "re.findall()\n",
    "\n",
    "\"\"\"\n",
    "Note: based on the RegEx, python offers two different  primitive operations,\n",
    "    this match method checks for the match only at the beginig of the string wide\n",
    "    search checks for match anywhere in the string \n",
    "\"\"\"\n",
    "\n",
    "    "
   ]
  },
  {
   "cell_type": "code",
   "execution_count": 18,
   "metadata": {},
   "outputs": [],
   "source": [
    "import re\n",
    "lists = ['icecream images','i immitated','inner peace']\n",
    "for i in lists:\n",
    "    q =re.match(\"(i\\w+)\\w(i\\w+)\",i)\n",
    "    if q: \n",
    "        print((q.groups()))\n",
    "        "
   ]
  },
  {
   "cell_type": "markdown",
   "metadata": {},
   "source": [
    "### Finding pattern in the text(re.search())\n",
    "\n",
    "A RegEx is commonly used to search for a pattern in the text. This method takes a RegEX pattern  and a string and searches that pattern with the string \n",
    "\n",
    "For using re.search() function  you need to import re first the search function takes the \"Pattern\" and text scan from our given string and return the match object when the pattern found  or else not match"
   ]
  },
  {
   "cell_type": "code",
   "execution_count": null,
   "metadata": {},
   "outputs": [],
   "source": []
  },
  {
   "cell_type": "code",
   "execution_count": 23,
   "metadata": {},
   "outputs": [
    {
     "name": "stdout",
     "output_type": "stream",
     "text": [
      "Your re looking for 'playing' in 'Raju is playing oustside'  found match\n",
      "Your re looking for 'dataset' in 'Raju is playing oustside'  no match found \n"
     ]
    }
   ],
   "source": [
    "import re \n",
    "pattern = [\"playing\" ,\"dataset\"]\n",
    "text =\"Raju is playing oustside\"\n",
    "\n",
    "for p in pattern:\n",
    "    print(\"Your re looking for '%s' in '%s' \" %(p, text), end = ' ')\n",
    "    \n",
    "    if re.search(p, text):\n",
    "        print(\"found match\")\n",
    "    else:\n",
    "        print(\"no match found \")"
   ]
  },
  {
   "cell_type": "markdown",
   "metadata": {},
   "source": [
    "Above example finding patterns searching the data in string   "
   ]
  },
  {
   "cell_type": "markdown",
   "metadata": {},
   "source": [
    "### Using re.findall() for text\n",
    "We use re.findall() module is when you want to iterate over the lines of the files, it'll  do like list all the matches in one go , Here in a example we would like to fatch email address from the list and we wants  to festch all emails from the list we use re.findall() method"
   ]
  },
  {
   "cell_type": "code",
   "execution_count": 25,
   "metadata": {},
   "outputs": [
    {
     "name": "stdout",
     "output_type": "stream",
     "text": [
      "abc@gmail.com\n",
      "XYX@gmail.com\n",
      "line@gamil.com\n",
      "kfg@gmail.com\n"
     ]
    }
   ],
   "source": [
    "import re\n",
    "\n",
    "kgf = \"abc@gmail.com, XYX@gmail.com , line@gamil.com, kfg@gmail.com\"\n",
    "emails =re.findall(r'[\\w\\.]+@[\\w\\.]+',kgf)\n",
    "for e in emails:\n",
    "    print(e)"
   ]
  },
  {
   "cell_type": "markdown",
   "metadata": {},
   "source": [
    "### Text normalization\n",
    "\n",
    "In the text Pre-Processing highly overlooked step is text normalization , The text normalization means the process of transfering the next into the canonical(or standard) from like \"ok and \"ok\"' can be tansformed to \"Okey\" its cannonical form and another example is mapping of near identical words \n",
    "such as \"Preprocessing\" pre-processing and to just preprocessing"
   ]
  },
  {
   "cell_type": "code",
   "execution_count": 26,
   "metadata": {},
   "outputs": [
    {
     "data": {
      "text/plain": [
       "' Text normalization is to usefull for noisy texts such as social media comments to blog posts, text messages, where abrivations misspellings\\nand the use our of vocabulary are prevent\\n\\nRaw                Normalized\\n2moro              tomorrow\\n2mrrw               \" \"\\n2morrow             \" \"\\ntomrw                \" \"\\nb4                   Before\\nohw                  on the way\\n:)                   simle\\n:-)                 \" \"\\n'"
      ]
     },
     "execution_count": 26,
     "metadata": {},
     "output_type": "execute_result"
    }
   ],
   "source": [
    "\"\"\" Text normalization is to usefull for noisy texts such as social media comments to blog posts, text messages, where abrivations misspellings\n",
    "and the use our of vocabulary are prevent\n",
    "\n",
    "Raw                Normalized\n",
    "2moro              tomorrow\n",
    "2mrrw               \" \"\n",
    "2morrow             \" \"\n",
    "tomrw                \" \"\n",
    "b4                   Before\n",
    "ohw                  on the way\n",
    ":)                   simle\n",
    ":-)                 \" \"\n",
    "\"\"\""
   ]
  },
  {
   "cell_type": "markdown",
   "metadata": {},
   "source": [
    "# TOKENIZERS"
   ]
  },
  {
   "cell_type": "markdown",
   "metadata": {},
   "source": [
    "# NLTK"
   ]
  },
  {
   "cell_type": "code",
   "execution_count": 27,
   "metadata": {
    "scrolled": true
   },
   "outputs": [
    {
     "name": "stdout",
     "output_type": "stream",
     "text": [
      "Requirement already satisfied: nltk in c:\\users\\adarsh_huggi\\anaconda3\\lib\\site-packages (3.6.4)\n",
      "Collecting nltk\n",
      "  Downloading nltk-3.6.5-py3-none-any.whl (1.5 MB)\n",
      "Requirement already satisfied: tqdm in c:\\users\\adarsh_huggi\\anaconda3\\lib\\site-packages (from nltk) (4.31.1)\n",
      "Requirement already satisfied: regex>=2021.8.3 in c:\\users\\adarsh_huggi\\anaconda3\\lib\\site-packages (from nltk) (2021.11.10)\n",
      "Requirement already satisfied: joblib in c:\\users\\adarsh_huggi\\anaconda3\\lib\\site-packages (from nltk) (1.1.0)\n",
      "Requirement already satisfied: click in c:\\users\\adarsh_huggi\\anaconda3\\lib\\site-packages (from nltk) (7.0)\n",
      "Installing collected packages: nltk\n",
      "Successfully installed nltk-3.6.5\n"
     ]
    },
    {
     "name": "stderr",
     "output_type": "stream",
     "text": [
      "  WARNING: The script nltk.exe is installed in 'C:\\Users\\Adarsh_huggi\\AppData\\Roaming\\Python\\Python37\\Scripts' which is not on PATH.\n",
      "  Consider adding this directory to PATH or, if you prefer to suppress this warning, use --no-warn-script-location.\n"
     ]
    }
   ],
   "source": [
    "!pip install --user -U nltk"
   ]
  },
  {
   "cell_type": "code",
   "execution_count": 32,
   "metadata": {},
   "outputs": [],
   "source": [
    "from nltk.tokenize.regexp import WhitespaceTokenizer\n",
    "m = \"'Ther is no need to panic . We need to work together to fight with covid -19. take small yet to measure a self -prtection'\""
   ]
  },
  {
   "cell_type": "code",
   "execution_count": 30,
   "metadata": {
    "scrolled": true
   },
   "outputs": [
    {
     "data": {
      "text/plain": [
       "['Founded',\n",
       " 'in',\n",
       " '2002',\n",
       " ',',\n",
       " 'spaceX',\n",
       " \"'s\",\n",
       " 'missing',\n",
       " 'is',\n",
       " 'to',\n",
       " 'enable',\n",
       " 'humans',\n",
       " 'to',\n",
       " 'become',\n",
       " 'a',\n",
       " 'specfaring',\n",
       " 'civilization',\n",
       " 'and',\n",
       " 'multi-',\n",
       " 'species',\n",
       " 'by',\n",
       " 'building',\n",
       " 'a',\n",
       " 'slef',\n",
       " '.sustaining',\n",
       " 'city',\n",
       " 'on',\n",
       " 'the',\n",
       " 'Mars',\n",
       " 'in',\n",
       " '2000',\n",
       " 'spaceX',\n",
       " 'falcon',\n",
       " 'i',\n",
       " 'become',\n",
       " 'the',\n",
       " 'first',\n",
       " 'privately',\n",
       " 'devloped',\n",
       " 'liquid',\n",
       " '-fuel',\n",
       " 'launch',\n",
       " 'vehicle',\n",
       " 'to',\n",
       " 'ordbit',\n",
       " 'the',\n",
       " 'Earth']"
      ]
     },
     "execution_count": 30,
     "metadata": {},
     "output_type": "execute_result"
    }
   ],
   "source": [
    "from nltk.tokenize import word_tokenize\n",
    "text =\"Founded in 2002 ,  spaceX's missing is to  enable humans to become a specfaring civilization and multi- species by building a slef .sustaining city on the Mars in 2000 spaceX  falcon i become the first privately devloped  liquid -fuel launch vehicle to ordbit the Earth\"\n",
    "word_tokenize(text)"
   ]
  },
  {
   "cell_type": "markdown",
   "metadata": {},
   "source": [
    "Above Example Punctuation also become a token"
   ]
  },
  {
   "cell_type": "code",
   "execution_count": 33,
   "metadata": {},
   "outputs": [
    {
     "name": "stdout",
     "output_type": "stream",
     "text": [
      "25\n"
     ]
    }
   ],
   "source": [
    "tokens = WhitespaceTokenizer().tokenize(m)\n",
    "print(len(tokens))\n",
    "#here punctuation will not consider seperate token  "
   ]
  },
  {
   "cell_type": "code",
   "execution_count": 34,
   "metadata": {},
   "outputs": [
    {
     "data": {
      "text/plain": [
       "[\"'Ther\",\n",
       " 'is',\n",
       " 'no',\n",
       " 'need',\n",
       " 'to',\n",
       " 'panic',\n",
       " '.',\n",
       " 'We',\n",
       " 'need',\n",
       " 'to',\n",
       " 'work',\n",
       " 'together',\n",
       " 'to',\n",
       " 'fight',\n",
       " 'with',\n",
       " 'covid',\n",
       " '-19.',\n",
       " 'take',\n",
       " 'small',\n",
       " 'yet',\n",
       " 'to',\n",
       " 'measure',\n",
       " 'a',\n",
       " 'self',\n",
       " \"-prtection'\"]"
      ]
     },
     "execution_count": 34,
     "metadata": {},
     "output_type": "execute_result"
    }
   ],
   "source": [
    "tokens"
   ]
  },
  {
   "cell_type": "code",
   "execution_count": 36,
   "metadata": {},
   "outputs": [
    {
     "name": "stdout",
     "output_type": "stream",
     "text": [
      "25\n"
     ]
    }
   ],
   "source": [
    "my_vocab = set(tokens)\n",
    "print(len(tokens))"
   ]
  },
  {
   "cell_type": "code",
   "execution_count": 38,
   "metadata": {},
   "outputs": [
    {
     "data": {
      "text/plain": [
       "{\"'Ther\",\n",
       " '-19.',\n",
       " \"-prtection'\",\n",
       " '.',\n",
       " 'We',\n",
       " 'a',\n",
       " 'covid',\n",
       " 'fight',\n",
       " 'is',\n",
       " 'measure',\n",
       " 'need',\n",
       " 'no',\n",
       " 'panic',\n",
       " 'self',\n",
       " 'small',\n",
       " 'take',\n",
       " 'to',\n",
       " 'together',\n",
       " 'with',\n",
       " 'work',\n",
       " 'yet'}"
      ]
     },
     "execution_count": 38,
     "metadata": {},
     "output_type": "execute_result"
    }
   ],
   "source": [
    "my_vocab"
   ]
  },
  {
   "cell_type": "markdown",
   "metadata": {},
   "source": [
    "Now we are going to perform the same operation but with the different to tokenizer"
   ]
  },
  {
   "cell_type": "code",
   "execution_count": 47,
   "metadata": {},
   "outputs": [],
   "source": [
    "my_st =\"There is no need to panic. We need to work to take samll yet important take measure to protect our self\"\n"
   ]
  },
  {
   "cell_type": "code",
   "execution_count": 42,
   "metadata": {},
   "outputs": [],
   "source": [
    "from nltk.tokenize.regexp import WordPunctTokenizer"
   ]
  },
  {
   "cell_type": "markdown",
   "metadata": {},
   "source": [
    "above tokenizer also split the words into tokens:"
   ]
  },
  {
   "cell_type": "code",
   "execution_count": 43,
   "metadata": {},
   "outputs": [
    {
     "name": "stdout",
     "output_type": "stream",
     "text": [
      "22\n"
     ]
    }
   ],
   "source": [
    "m_t = WordPunctTokenizer().tokenize(my_st)\n",
    "print(len(m_t))"
   ]
  },
  {
   "cell_type": "code",
   "execution_count": 44,
   "metadata": {},
   "outputs": [
    {
     "data": {
      "text/plain": [
       "['There',\n",
       " 'is',\n",
       " 'no',\n",
       " 'need',\n",
       " 'to',\n",
       " 'panic',\n",
       " '.',\n",
       " 'We',\n",
       " 'need',\n",
       " 'to',\n",
       " 'work',\n",
       " 'to',\n",
       " 'take',\n",
       " 'samll',\n",
       " 'yet',\n",
       " 'important',\n",
       " 'take',\n",
       " 'measure',\n",
       " 'to',\n",
       " 'protect',\n",
       " 'our',\n",
       " 'self']"
      ]
     },
     "execution_count": 44,
     "metadata": {},
     "output_type": "execute_result"
    }
   ],
   "source": [
    "m_t"
   ]
  },
  {
   "cell_type": "code",
   "execution_count": 48,
   "metadata": {},
   "outputs": [
    {
     "data": {
      "text/plain": [
       "['Space Exploration Technologies Corp. is an American aerospace manufacturer, space transportation services and communications corporation headquartered in Hawthorne, California.',\n",
       " 'SpaceX was founded in 2002 by Elon Musk with the goal of reducing space transportation costs to enable the colonization of Mars']"
      ]
     },
     "execution_count": 48,
     "metadata": {},
     "output_type": "execute_result"
    }
   ],
   "source": [
    "from nltk.tokenize import sent_tokenize\n",
    "text = \"Space Exploration Technologies Corp. is an American aerospace manufacturer, space transportation services and communications corporation headquartered in Hawthorne, California. SpaceX was founded in 2002 by Elon Musk with the goal of reducing space transportation costs to enable the colonization of Mars\"\n",
    "sent_tokenize(text)"
   ]
  },
  {
   "cell_type": "markdown",
   "metadata": {},
   "source": [
    "### Frequency distribution \n",
    "what is Frequency distribution? This is basically words in your texts . To give a brief example of how it works"
   ]
  },
  {
   "cell_type": "code",
   "execution_count": 52,
   "metadata": {},
   "outputs": [
    {
     "name": "stdout",
     "output_type": "stream",
     "text": [
      "\n",
      "\n",
      "\n",
      "\n",
      "<FreqDist with 19 samples and 22 outcomes>\n"
     ]
    }
   ],
   "source": [
    "#from nltk.book import *\n",
    "import nltk\n",
    "#nltk.download('gutenberg')\n",
    "print(\"\\n\\n\\n\")\n",
    "text1 =\"There is no need panic. we need to work together, take small yet important measures  to ensure . seld -proof\"\n",
    "freqDist =nltk.FreqDist(word_tokenize(text1))\n",
    "print(freqDist)"
   ]
  },
  {
   "cell_type": "markdown",
   "metadata": {},
   "source": [
    "This class FreqDist works like a dictionary where keys are the words \n",
    "in the text and the values are count asscoiated with that word. for example iif you \n",
    "want to see hoe many words \"person\" are in the text you cn type as :"
   ]
  },
  {
   "cell_type": "code",
   "execution_count": 53,
   "metadata": {},
   "outputs": [
    {
     "name": "stdout",
     "output_type": "stream",
     "text": [
      "0\n"
     ]
    }
   ],
   "source": [
    "print(freqDist[\"Pesron\"]) #word is not there in string so it giving zero"
   ]
  },
  {
   "cell_type": "code",
   "execution_count": 58,
   "metadata": {},
   "outputs": [
    {
     "name": "stdout",
     "output_type": "stream",
     "text": [
      "2\n"
     ]
    }
   ],
   "source": [
    "print(freqDist[\"need\"])"
   ]
  },
  {
   "cell_type": "markdown",
   "metadata": {},
   "source": [
    "One of the most important function in FreqDist is the . Keys() function .Let us see what will it give in a below code"
   ]
  },
  {
   "cell_type": "code",
   "execution_count": 56,
   "metadata": {},
   "outputs": [
    {
     "name": "stdout",
     "output_type": "stream",
     "text": [
      "<class 'dict_keys'>\n"
     ]
    }
   ],
   "source": [
    "words =  freqDist.keys()\n",
    "print(type(words))"
   ]
  },
  {
   "cell_type": "code",
   "execution_count": 59,
   "metadata": {},
   "outputs": [
    {
     "name": "stdout",
     "output_type": "stream",
     "text": [
      "19\n"
     ]
    }
   ],
   "source": [
    "print(len(words))"
   ]
  },
  {
   "cell_type": "code",
   "execution_count": 62,
   "metadata": {},
   "outputs": [
    {
     "data": {
      "image/png": "[encoded data removed]",
      "text/plain": [
       "<Figure size 432x288 with 1 Axes>"
      ]
     },
     "metadata": {
      "needs_background": "light"
     },
     "output_type": "display_data"
    },
    {
     "data": {
      "text/plain": [
       "<matplotlib.axes._subplots.AxesSubplot at 0x18c846d24a8>"
      ]
     },
     "execution_count": 62,
     "metadata": {},
     "output_type": "execute_result"
    }
   ],
   "source": [
    "freqDist.plot(19)"
   ]
  },
  {
   "cell_type": "markdown",
   "metadata": {},
   "source": [
    "### Personal Frequnecy Distribution\n",
    "Suppose you want to do frequency distribution based on your own personal text. lets get started,"
   ]
  },
  {
   "cell_type": "code",
   "execution_count": 63,
   "metadata": {},
   "outputs": [
    {
     "name": "stdout",
     "output_type": "stream",
     "text": [
      "1\n"
     ]
    }
   ],
   "source": [
    "from nltk import FreqDist\n",
    "sent =\"'There is no need to panis . we work together, take small yet important measures to ensure self protection'\"\n",
    "text_list =sent.split(\" \")\n",
    "freqDist =FreqDist(text_list)\n",
    "words =list(freqDist.keys())\n",
    "\n",
    "print(freqDist['need'])"
   ]
  },
  {
   "cell_type": "code",
   "execution_count": 64,
   "metadata": {},
   "outputs": [
    {
     "data": {
      "image/png": "[encoded data removed]",
      "text/plain": [
       "<Figure size 432x288 with 1 Axes>"
      ]
     },
     "metadata": {
      "needs_background": "light"
     },
     "output_type": "display_data"
    },
    {
     "data": {
      "text/plain": [
       "<matplotlib.axes._subplots.AxesSubplot at 0x18c84271780>"
      ]
     },
     "execution_count": 64,
     "metadata": {},
     "output_type": "execute_result"
    }
   ],
   "source": [
    "freqDist.plot(20)"
   ]
  },
  {
   "cell_type": "code",
   "execution_count": null,
   "metadata": {},
   "outputs": [],
   "source": []
  }
 ],
 "metadata": {
  "kernelspec": {
   "display_name": "Python 3",
   "language": "python",
   "name": "python3"
  },
  "language_info": {
   "codemirror_mode": {
    "name": "ipython",
    "version": 3
   },
   "file_extension": ".py",
   "mimetype": "text/x-python",
   "name": "python",
   "nbconvert_exporter": "python",
   "pygments_lexer": "ipython3",
   "version": "3.7.3"
  }
 },
 "nbformat": 4,
 "nbformat_minor": 2
}
